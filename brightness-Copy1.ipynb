{
 "cells": [
  {
   "cell_type": "code",
   "execution_count": null,
   "id": "f6171cc5",
   "metadata": {},
   "outputs": [],
   "source": [
    "pip install opencv-python"
   ]
  },
  {
   "cell_type": "code",
   "execution_count": null,
   "id": "aea8b3cf",
   "metadata": {},
   "outputs": [],
   "source": [
    "pip install screen-brightness-control"
   ]
  },
  {
   "cell_type": "code",
   "execution_count": null,
   "id": "e4ed5477",
   "metadata": {},
   "outputs": [],
   "source": [
    "pip install cvzone"
   ]
  },
  {
   "cell_type": "code",
   "execution_count": null,
   "id": "5c1636f4",
   "metadata": {},
   "outputs": [],
   "source": [
    "pip install mediapipe"
   ]
  },
  {
   "cell_type": "code",
   "execution_count": null,
   "id": "8f00c2b2",
   "metadata": {},
   "outputs": [],
   "source": []
  },
  {
   "cell_type": "code",
   "execution_count": null,
   "id": "8424d491",
   "metadata": {},
   "outputs": [],
   "source": []
  },
  {
   "cell_type": "code",
   "execution_count": null,
   "id": "657f3f56",
   "metadata": {},
   "outputs": [],
   "source": []
  },
  {
   "cell_type": "markdown",
   "id": "0b3e4db4",
   "metadata": {},
   "source": [
    "# project \n"
   ]
  },
  {
   "cell_type": "code",
   "execution_count": null,
   "id": "5251a22b",
   "metadata": {},
   "outputs": [],
   "source": []
  },
  {
   "cell_type": "code",
   "execution_count": 1,
   "id": "8e63b3ee",
   "metadata": {},
   "outputs": [],
   "source": [
    "import cv2 as cv\n",
    "import numpy as np\n",
    "import screen_brightness_control as scb\n",
    "from cvzone.HandTrackingModule import HandDetector"
   ]
  },
  {
   "cell_type": "markdown",
   "id": "fab85730",
   "metadata": {},
   "source": [
    "# camera on"
   ]
  },
  {
   "cell_type": "code",
   "execution_count": null,
   "id": "06a91697",
   "metadata": {},
   "outputs": [],
   "source": [
    "cap=cv.VideoCapture(0)\n",
    "hd=HandDetector()\n",
    "while 1:\n",
    "    _,img=cap.read()\n",
    "    hands,img=hd.findHands(img)\n",
    "    \n",
    "    if hands:\n",
    "        lm=hands[0]['lmList']\n",
    "        #print(lm)\n",
    "        \n",
    "        length,info,img=hd.findDistance(lm[8][0:2],lm[4][0:2],img)\n",
    "        #print(length)\n",
    "        blevel=np.interp(length,[25,145],[0,100])\n",
    "        val=np.interp(length,[0,100],[400,150])\n",
    "        blevel=int(blevel)\n",
    "        scb.set_brightness(blevel)\n",
    "        \n",
    "        cv.rectangle(img,(20,150),(85,400),(0,0,255),4)\n",
    "        cv.rectangle(img,(20,int(val)),(85,400),(142,229,238),-1)\n",
    "        cv.putText(img,str(blevel)+'%',(20,430),cv.FONT_HERSHEY_COMPLEX,1,(5,5,5),3)\n",
    "        \n",
    "        \n",
    "        \n",
    "    cv.imshow('frame',img)\n",
    "    cv.waitKey(1)"
   ]
  },
  {
   "cell_type": "code",
   "execution_count": null,
   "id": "a4c495a5",
   "metadata": {},
   "outputs": [],
   "source": []
  },
  {
   "cell_type": "code",
   "execution_count": null,
   "id": "4697e429",
   "metadata": {},
   "outputs": [],
   "source": []
  },
  {
   "cell_type": "code",
   "execution_count": null,
   "id": "19a9bbf2",
   "metadata": {},
   "outputs": [],
   "source": []
  },
  {
   "cell_type": "code",
   "execution_count": null,
   "id": "5ebb890f",
   "metadata": {},
   "outputs": [],
   "source": []
  },
  {
   "cell_type": "code",
   "execution_count": null,
   "id": "87b18488",
   "metadata": {},
   "outputs": [],
   "source": []
  },
  {
   "cell_type": "code",
   "execution_count": null,
   "id": "cf24bad2",
   "metadata": {},
   "outputs": [],
   "source": [
    "# importing the module\n",
    "import screen_brightness_control as sbc\n",
    " \n",
    "# get current brightness  value\n",
    "current_brightness = sbc.get_brightness()\n",
    "print(current_brightness)\n",
    " \n",
    "# get the brightness of the primary display\n",
    "primary_brightness = sbc.get_brightness(display=0)\n",
    "print(primary_brightness)"
   ]
  },
  {
   "cell_type": "code",
   "execution_count": null,
   "id": "19204743",
   "metadata": {},
   "outputs": [],
   "source": []
  },
  {
   "cell_type": "code",
   "execution_count": null,
   "id": "03cbb6c8",
   "metadata": {},
   "outputs": [],
   "source": []
  },
  {
   "cell_type": "code",
   "execution_count": null,
   "id": "47bd0906",
   "metadata": {},
   "outputs": [],
   "source": []
  }
 ],
 "metadata": {
  "kernelspec": {
   "display_name": "Python 3 (ipykernel)",
   "language": "python",
   "name": "python3"
  },
  "language_info": {
   "codemirror_mode": {
    "name": "ipython",
    "version": 3
   },
   "file_extension": ".py",
   "mimetype": "text/x-python",
   "name": "python",
   "nbconvert_exporter": "python",
   "pygments_lexer": "ipython3",
   "version": "3.9.13"
  }
 },
 "nbformat": 4,
 "nbformat_minor": 5
}
